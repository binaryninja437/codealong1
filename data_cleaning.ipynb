{
  "nbformat": 4,
  "nbformat_minor": 0,
  "metadata": {
    "colab": {
      "provenance": [],
      "authorship_tag": "ABX9TyOACJX3NEdRGcCS1jnNDm3o",
      "include_colab_link": true
    },
    "kernelspec": {
      "name": "python3",
      "display_name": "Python 3"
    },
    "language_info": {
      "name": "python"
    }
  },
  "cells": [
    {
      "cell_type": "markdown",
      "metadata": {
        "id": "view-in-github",
        "colab_type": "text"
      },
      "source": [
        "<a href=\"https://colab.research.google.com/github/binaryninja437/codealong1/blob/main/data_cleaning.ipynb\" target=\"_parent\"><img src=\"https://colab.research.google.com/assets/colab-badge.svg\" alt=\"Open In Colab\"/></a>"
      ]
    },
    {
      "cell_type": "code",
      "execution_count": 28,
      "metadata": {
        "id": "toL9byjT_vfz"
      },
      "outputs": [],
      "source": [
        "import pandas as pd"
      ]
    },
    {
      "cell_type": "code",
      "source": [
        "data = pd.read_csv(\"/content/realworld_medical_dirty.csv\")"
      ],
      "metadata": {
        "id": "rBcKFMXk_-bQ"
      },
      "execution_count": 29,
      "outputs": []
    },
    {
      "cell_type": "code",
      "source": [
        "print(data.head())"
      ],
      "metadata": {
        "colab": {
          "base_uri": "https://localhost:8080/"
        },
        "id": "MvFkGJqcAGBI",
        "outputId": "a3974ffe-d3bb-4c00-b79f-77c7e7bd8841"
      },
      "execution_count": 30,
      "outputs": [
        {
          "output_type": "stream",
          "name": "stdout",
          "text": [
            "  Patient_ID   Age  Gender  Blood_Pressure  Cholesterol   BMI Smoker  \\\n",
            "0      P1000  55.0  FEMALE           120.0          NaN  35.4    Yes   \n",
            "1      P1001  65.0    Male           150.0        180.0  27.8    NaN   \n",
            "2      P1002  45.0    Male           120.0        220.0  22.5     No   \n",
            "3      P1003  65.0    Male             NaN        180.0  35.4     No   \n",
            "4      P1004  65.0    Male           120.0        300.0  40.1    NaN   \n",
            "\n",
            "       Diagnosis Admission_Date               Notes  \n",
            "0  Heart Disease     2023-12-27                 NaN  \n",
            "1            NaN     2023-01-01                 NaN  \n",
            "2            NaN     2023-12-14                 NaN  \n",
            "3            NaN     2023-07-09                 NaN  \n",
            "4            NaN     2023-07-10  Follow-up required  \n"
          ]
        }
      ]
    },
    {
      "cell_type": "code",
      "source": [
        "print(data.info())"
      ],
      "metadata": {
        "colab": {
          "base_uri": "https://localhost:8080/"
        },
        "id": "lHj9Fwx_AI3m",
        "outputId": "cb95ceca-3b2c-40fd-81f5-c025f95b4c46"
      },
      "execution_count": 31,
      "outputs": [
        {
          "output_type": "stream",
          "name": "stdout",
          "text": [
            "<class 'pandas.core.frame.DataFrame'>\n",
            "RangeIndex: 100 entries, 0 to 99\n",
            "Data columns (total 10 columns):\n",
            " #   Column          Non-Null Count  Dtype  \n",
            "---  ------          --------------  -----  \n",
            " 0   Patient_ID      100 non-null    object \n",
            " 1   Age             83 non-null     float64\n",
            " 2   Gender          85 non-null     object \n",
            " 3   Blood_Pressure  86 non-null     float64\n",
            " 4   Cholesterol     80 non-null     float64\n",
            " 5   BMI             80 non-null     float64\n",
            " 6   Smoker          80 non-null     object \n",
            " 7   Diagnosis       52 non-null     object \n",
            " 8   Admission_Date  100 non-null    object \n",
            " 9   Notes           57 non-null     object \n",
            "dtypes: float64(4), object(6)\n",
            "memory usage: 7.9+ KB\n",
            "None\n"
          ]
        }
      ]
    },
    {
      "cell_type": "code",
      "source": [
        "print(data.describe())"
      ],
      "metadata": {
        "colab": {
          "base_uri": "https://localhost:8080/"
        },
        "id": "U9M2zDoxALs1",
        "outputId": "67d1e4a3-a524-4a76-e4e4-ee7523fa3a9c"
      },
      "execution_count": 32,
      "outputs": [
        {
          "output_type": "stream",
          "name": "stdout",
          "text": [
            "             Age  Blood_Pressure  Cholesterol        BMI\n",
            "count  83.000000       86.000000    80.000000  80.000000\n",
            "mean   47.168675      137.093023   226.750000  32.228750\n",
            "std    13.619229       13.360722    43.217876   6.237437\n",
            "min    25.000000      120.000000   180.000000  22.500000\n",
            "25%    35.000000      120.000000   195.000000  27.800000\n",
            "50%    55.000000      140.000000   220.000000  35.400000\n",
            "75%    55.000000      150.000000   250.000000  36.575000\n",
            "max    65.000000      160.000000   300.000000  40.100000\n"
          ]
        }
      ]
    },
    {
      "cell_type": "code",
      "source": [
        "### Handling missing values"
      ],
      "metadata": {
        "id": "CY24j748ANtu"
      },
      "execution_count": 33,
      "outputs": []
    },
    {
      "cell_type": "code",
      "source": [
        "print(data.isnull().sum())"
      ],
      "metadata": {
        "colab": {
          "base_uri": "https://localhost:8080/"
        },
        "id": "ADrFXaCUAfH2",
        "outputId": "fe08e54b-dc70-4a61-d9f0-442ce6fde85b"
      },
      "execution_count": 34,
      "outputs": [
        {
          "output_type": "stream",
          "name": "stdout",
          "text": [
            "Patient_ID         0\n",
            "Age               17\n",
            "Gender            15\n",
            "Blood_Pressure    14\n",
            "Cholesterol       20\n",
            "BMI               20\n",
            "Smoker            20\n",
            "Diagnosis         48\n",
            "Admission_Date     0\n",
            "Notes             43\n",
            "dtype: int64\n"
          ]
        }
      ]
    },
    {
      "cell_type": "code",
      "source": [
        "data = data.dropna()"
      ],
      "metadata": {
        "id": "2OQEvFS7AhTO"
      },
      "execution_count": 35,
      "outputs": []
    },
    {
      "cell_type": "code",
      "source": [
        "print(data.head())"
      ],
      "metadata": {
        "colab": {
          "base_uri": "https://localhost:8080/"
        },
        "id": "FB3RiKJvAweY",
        "outputId": "10918ce3-aea8-4f06-ccc4-43cca597d3ff"
      },
      "execution_count": 36,
      "outputs": [
        {
          "output_type": "stream",
          "name": "stdout",
          "text": [
            "   Patient_ID   Age  Gender  Blood_Pressure  Cholesterol   BMI Smoker  \\\n",
            "5       P1005  35.0  Female           130.0        200.0  35.4      N   \n",
            "15      P1015  55.0    male           140.0        250.0  30.0      N   \n",
            "41      P1041  45.0    male           140.0        250.0  35.4     No   \n",
            "44      P1044  65.0    MALE           150.0        250.0  35.4     No   \n",
            "45      P1045  25.0    Male           140.0        300.0  40.1      Y   \n",
            "\n",
            "        Diagnosis Admission_Date               Notes  \n",
            "5   Heart Disease     2023-11-08  Follow-up required  \n",
            "15       Diabetes     2023-05-29         Checkup due  \n",
            "41  Heart Disease     2023-05-02  Follow-up required  \n",
            "44       Diabetes     2023-03-31  Follow-up required  \n",
            "45  Heart Disease     2023-05-16             Pending  \n"
          ]
        }
      ]
    },
    {
      "cell_type": "code",
      "source": [
        "data['Age'] = data['Age'].fillna(data['Age'].median())\n",
        "print(data['Age'].head())"
      ],
      "metadata": {
        "colab": {
          "base_uri": "https://localhost:8080/"
        },
        "id": "ZGN_NjWmAyhr",
        "outputId": "10ad8130-95f4-4558-a7ab-a6ef0172226f"
      },
      "execution_count": 37,
      "outputs": [
        {
          "output_type": "stream",
          "name": "stdout",
          "text": [
            "5     35.0\n",
            "15    55.0\n",
            "41    45.0\n",
            "44    65.0\n",
            "45    25.0\n",
            "Name: Age, dtype: float64\n"
          ]
        }
      ]
    },
    {
      "cell_type": "code",
      "source": [
        "data['Cholesterol'] = data['Cholesterol'].fillna(data['Cholesterol'].median())"
      ],
      "metadata": {
        "id": "FtGpxxb0BeJ9"
      },
      "execution_count": 38,
      "outputs": []
    },
    {
      "cell_type": "code",
      "source": [
        "print(data['Cholesterol'].head())"
      ],
      "metadata": {
        "colab": {
          "base_uri": "https://localhost:8080/"
        },
        "id": "XWrV8gVBCihL",
        "outputId": "caa4663c-010e-4680-810a-021b9a0a650a"
      },
      "execution_count": 39,
      "outputs": [
        {
          "output_type": "stream",
          "name": "stdout",
          "text": [
            "5     200.0\n",
            "15    250.0\n",
            "41    250.0\n",
            "44    250.0\n",
            "45    300.0\n",
            "Name: Cholesterol, dtype: float64\n"
          ]
        }
      ]
    },
    {
      "cell_type": "code",
      "source": [
        "data['Gender'] = data['Gender'].fillna(data['Gender'].mode()[0])\n",
        "data['Smoker'] = data['Smoker'].fillna(data['Smoker'].mode()[0])"
      ],
      "metadata": {
        "id": "JmoJAvNYOhT7"
      },
      "execution_count": 40,
      "outputs": []
    },
    {
      "cell_type": "code",
      "source": [
        "print(data['Gender'].head())\n",
        "print(data['Smoker'].head())"
      ],
      "metadata": {
        "colab": {
          "base_uri": "https://localhost:8080/"
        },
        "id": "o3FW_tQMOz_2",
        "outputId": "a9e7a64a-8f42-4583-9ac8-70c8d56292ec"
      },
      "execution_count": 41,
      "outputs": [
        {
          "output_type": "stream",
          "name": "stdout",
          "text": [
            "5     Female\n",
            "15      male\n",
            "41      male\n",
            "44      MALE\n",
            "45      Male\n",
            "Name: Gender, dtype: object\n",
            "5      N\n",
            "15     N\n",
            "41    No\n",
            "44    No\n",
            "45     Y\n",
            "Name: Smoker, dtype: object\n"
          ]
        }
      ]
    },
    {
      "cell_type": "code",
      "source": [
        "### fix inconsistent data"
      ],
      "metadata": {
        "id": "3QC3vSOHO5xD"
      },
      "execution_count": 42,
      "outputs": []
    },
    {
      "cell_type": "code",
      "source": [
        "data['Gender'] = data['Gender'].str.strip().str.lower()"
      ],
      "metadata": {
        "id": "tcVhgfXFPGHy"
      },
      "execution_count": 43,
      "outputs": []
    },
    {
      "cell_type": "code",
      "source": [
        "print(data['Gender'].head())"
      ],
      "metadata": {
        "colab": {
          "base_uri": "https://localhost:8080/"
        },
        "id": "mQLR8IR-POQF",
        "outputId": "adb0bc53-77ed-4446-c895-dc0cdb38b51e"
      },
      "execution_count": 44,
      "outputs": [
        {
          "output_type": "stream",
          "name": "stdout",
          "text": [
            "5     female\n",
            "15      male\n",
            "41      male\n",
            "44      male\n",
            "45      male\n",
            "Name: Gender, dtype: object\n"
          ]
        }
      ]
    },
    {
      "cell_type": "code",
      "source": [
        "data['Gender'] = data['Gender'].replace({'male':'Male','female':'Female'})"
      ],
      "metadata": {
        "id": "4fuXUrqpZydy"
      },
      "execution_count": 45,
      "outputs": []
    },
    {
      "cell_type": "code",
      "source": [
        "print(data['Gender'].head())"
      ],
      "metadata": {
        "colab": {
          "base_uri": "https://localhost:8080/"
        },
        "id": "HWESkf56ansP",
        "outputId": "d6183ccd-be19-49cf-ff91-ad1eebe13aad"
      },
      "execution_count": 46,
      "outputs": [
        {
          "output_type": "stream",
          "name": "stdout",
          "text": [
            "5     Female\n",
            "15      Male\n",
            "41      Male\n",
            "44      Male\n",
            "45      Male\n",
            "Name: Gender, dtype: object\n"
          ]
        }
      ]
    },
    {
      "cell_type": "code",
      "source": [
        "data.head()"
      ],
      "metadata": {
        "colab": {
          "base_uri": "https://localhost:8080/",
          "height": 206
        },
        "id": "tdWOYehNbC1s",
        "outputId": "0a64b30f-f32e-40cf-fe0f-0845544f8165"
      },
      "execution_count": 47,
      "outputs": [
        {
          "output_type": "execute_result",
          "data": {
            "text/plain": [
              "   Patient_ID   Age  Gender  Blood_Pressure  Cholesterol   BMI Smoker  \\\n",
              "5       P1005  35.0  Female           130.0        200.0  35.4      N   \n",
              "15      P1015  55.0    Male           140.0        250.0  30.0      N   \n",
              "41      P1041  45.0    Male           140.0        250.0  35.4     No   \n",
              "44      P1044  65.0    Male           150.0        250.0  35.4     No   \n",
              "45      P1045  25.0    Male           140.0        300.0  40.1      Y   \n",
              "\n",
              "        Diagnosis Admission_Date               Notes  \n",
              "5   Heart Disease     2023-11-08  Follow-up required  \n",
              "15       Diabetes     2023-05-29         Checkup due  \n",
              "41  Heart Disease     2023-05-02  Follow-up required  \n",
              "44       Diabetes     2023-03-31  Follow-up required  \n",
              "45  Heart Disease     2023-05-16             Pending  "
            ],
            "text/html": [
              "\n",
              "  <div id=\"df-af08a035-ee68-49d4-a295-9a7b1dac9089\" class=\"colab-df-container\">\n",
              "    <div>\n",
              "<style scoped>\n",
              "    .dataframe tbody tr th:only-of-type {\n",
              "        vertical-align: middle;\n",
              "    }\n",
              "\n",
              "    .dataframe tbody tr th {\n",
              "        vertical-align: top;\n",
              "    }\n",
              "\n",
              "    .dataframe thead th {\n",
              "        text-align: right;\n",
              "    }\n",
              "</style>\n",
              "<table border=\"1\" class=\"dataframe\">\n",
              "  <thead>\n",
              "    <tr style=\"text-align: right;\">\n",
              "      <th></th>\n",
              "      <th>Patient_ID</th>\n",
              "      <th>Age</th>\n",
              "      <th>Gender</th>\n",
              "      <th>Blood_Pressure</th>\n",
              "      <th>Cholesterol</th>\n",
              "      <th>BMI</th>\n",
              "      <th>Smoker</th>\n",
              "      <th>Diagnosis</th>\n",
              "      <th>Admission_Date</th>\n",
              "      <th>Notes</th>\n",
              "    </tr>\n",
              "  </thead>\n",
              "  <tbody>\n",
              "    <tr>\n",
              "      <th>5</th>\n",
              "      <td>P1005</td>\n",
              "      <td>35.0</td>\n",
              "      <td>Female</td>\n",
              "      <td>130.0</td>\n",
              "      <td>200.0</td>\n",
              "      <td>35.4</td>\n",
              "      <td>N</td>\n",
              "      <td>Heart Disease</td>\n",
              "      <td>2023-11-08</td>\n",
              "      <td>Follow-up required</td>\n",
              "    </tr>\n",
              "    <tr>\n",
              "      <th>15</th>\n",
              "      <td>P1015</td>\n",
              "      <td>55.0</td>\n",
              "      <td>Male</td>\n",
              "      <td>140.0</td>\n",
              "      <td>250.0</td>\n",
              "      <td>30.0</td>\n",
              "      <td>N</td>\n",
              "      <td>Diabetes</td>\n",
              "      <td>2023-05-29</td>\n",
              "      <td>Checkup due</td>\n",
              "    </tr>\n",
              "    <tr>\n",
              "      <th>41</th>\n",
              "      <td>P1041</td>\n",
              "      <td>45.0</td>\n",
              "      <td>Male</td>\n",
              "      <td>140.0</td>\n",
              "      <td>250.0</td>\n",
              "      <td>35.4</td>\n",
              "      <td>No</td>\n",
              "      <td>Heart Disease</td>\n",
              "      <td>2023-05-02</td>\n",
              "      <td>Follow-up required</td>\n",
              "    </tr>\n",
              "    <tr>\n",
              "      <th>44</th>\n",
              "      <td>P1044</td>\n",
              "      <td>65.0</td>\n",
              "      <td>Male</td>\n",
              "      <td>150.0</td>\n",
              "      <td>250.0</td>\n",
              "      <td>35.4</td>\n",
              "      <td>No</td>\n",
              "      <td>Diabetes</td>\n",
              "      <td>2023-03-31</td>\n",
              "      <td>Follow-up required</td>\n",
              "    </tr>\n",
              "    <tr>\n",
              "      <th>45</th>\n",
              "      <td>P1045</td>\n",
              "      <td>25.0</td>\n",
              "      <td>Male</td>\n",
              "      <td>140.0</td>\n",
              "      <td>300.0</td>\n",
              "      <td>40.1</td>\n",
              "      <td>Y</td>\n",
              "      <td>Heart Disease</td>\n",
              "      <td>2023-05-16</td>\n",
              "      <td>Pending</td>\n",
              "    </tr>\n",
              "  </tbody>\n",
              "</table>\n",
              "</div>\n",
              "    <div class=\"colab-df-buttons\">\n",
              "\n",
              "  <div class=\"colab-df-container\">\n",
              "    <button class=\"colab-df-convert\" onclick=\"convertToInteractive('df-af08a035-ee68-49d4-a295-9a7b1dac9089')\"\n",
              "            title=\"Convert this dataframe to an interactive table.\"\n",
              "            style=\"display:none;\">\n",
              "\n",
              "  <svg xmlns=\"http://www.w3.org/2000/svg\" height=\"24px\" viewBox=\"0 -960 960 960\">\n",
              "    <path d=\"M120-120v-720h720v720H120Zm60-500h600v-160H180v160Zm220 220h160v-160H400v160Zm0 220h160v-160H400v160ZM180-400h160v-160H180v160Zm440 0h160v-160H620v160ZM180-180h160v-160H180v160Zm440 0h160v-160H620v160Z\"/>\n",
              "  </svg>\n",
              "    </button>\n",
              "\n",
              "  <style>\n",
              "    .colab-df-container {\n",
              "      display:flex;\n",
              "      gap: 12px;\n",
              "    }\n",
              "\n",
              "    .colab-df-convert {\n",
              "      background-color: #E8F0FE;\n",
              "      border: none;\n",
              "      border-radius: 50%;\n",
              "      cursor: pointer;\n",
              "      display: none;\n",
              "      fill: #1967D2;\n",
              "      height: 32px;\n",
              "      padding: 0 0 0 0;\n",
              "      width: 32px;\n",
              "    }\n",
              "\n",
              "    .colab-df-convert:hover {\n",
              "      background-color: #E2EBFA;\n",
              "      box-shadow: 0px 1px 2px rgba(60, 64, 67, 0.3), 0px 1px 3px 1px rgba(60, 64, 67, 0.15);\n",
              "      fill: #174EA6;\n",
              "    }\n",
              "\n",
              "    .colab-df-buttons div {\n",
              "      margin-bottom: 4px;\n",
              "    }\n",
              "\n",
              "    [theme=dark] .colab-df-convert {\n",
              "      background-color: #3B4455;\n",
              "      fill: #D2E3FC;\n",
              "    }\n",
              "\n",
              "    [theme=dark] .colab-df-convert:hover {\n",
              "      background-color: #434B5C;\n",
              "      box-shadow: 0px 1px 3px 1px rgba(0, 0, 0, 0.15);\n",
              "      filter: drop-shadow(0px 1px 2px rgba(0, 0, 0, 0.3));\n",
              "      fill: #FFFFFF;\n",
              "    }\n",
              "  </style>\n",
              "\n",
              "    <script>\n",
              "      const buttonEl =\n",
              "        document.querySelector('#df-af08a035-ee68-49d4-a295-9a7b1dac9089 button.colab-df-convert');\n",
              "      buttonEl.style.display =\n",
              "        google.colab.kernel.accessAllowed ? 'block' : 'none';\n",
              "\n",
              "      async function convertToInteractive(key) {\n",
              "        const element = document.querySelector('#df-af08a035-ee68-49d4-a295-9a7b1dac9089');\n",
              "        const dataTable =\n",
              "          await google.colab.kernel.invokeFunction('convertToInteractive',\n",
              "                                                    [key], {});\n",
              "        if (!dataTable) return;\n",
              "\n",
              "        const docLinkHtml = 'Like what you see? Visit the ' +\n",
              "          '<a target=\"_blank\" href=https://colab.research.google.com/notebooks/data_table.ipynb>data table notebook</a>'\n",
              "          + ' to learn more about interactive tables.';\n",
              "        element.innerHTML = '';\n",
              "        dataTable['output_type'] = 'display_data';\n",
              "        await google.colab.output.renderOutput(dataTable, element);\n",
              "        const docLink = document.createElement('div');\n",
              "        docLink.innerHTML = docLinkHtml;\n",
              "        element.appendChild(docLink);\n",
              "      }\n",
              "    </script>\n",
              "  </div>\n",
              "\n",
              "\n",
              "    <div id=\"df-e33203f6-b4b7-4546-866a-9ba7592ef0b8\">\n",
              "      <button class=\"colab-df-quickchart\" onclick=\"quickchart('df-e33203f6-b4b7-4546-866a-9ba7592ef0b8')\"\n",
              "                title=\"Suggest charts\"\n",
              "                style=\"display:none;\">\n",
              "\n",
              "<svg xmlns=\"http://www.w3.org/2000/svg\" height=\"24px\"viewBox=\"0 0 24 24\"\n",
              "     width=\"24px\">\n",
              "    <g>\n",
              "        <path d=\"M19 3H5c-1.1 0-2 .9-2 2v14c0 1.1.9 2 2 2h14c1.1 0 2-.9 2-2V5c0-1.1-.9-2-2-2zM9 17H7v-7h2v7zm4 0h-2V7h2v10zm4 0h-2v-4h2v4z\"/>\n",
              "    </g>\n",
              "</svg>\n",
              "      </button>\n",
              "\n",
              "<style>\n",
              "  .colab-df-quickchart {\n",
              "      --bg-color: #E8F0FE;\n",
              "      --fill-color: #1967D2;\n",
              "      --hover-bg-color: #E2EBFA;\n",
              "      --hover-fill-color: #174EA6;\n",
              "      --disabled-fill-color: #AAA;\n",
              "      --disabled-bg-color: #DDD;\n",
              "  }\n",
              "\n",
              "  [theme=dark] .colab-df-quickchart {\n",
              "      --bg-color: #3B4455;\n",
              "      --fill-color: #D2E3FC;\n",
              "      --hover-bg-color: #434B5C;\n",
              "      --hover-fill-color: #FFFFFF;\n",
              "      --disabled-bg-color: #3B4455;\n",
              "      --disabled-fill-color: #666;\n",
              "  }\n",
              "\n",
              "  .colab-df-quickchart {\n",
              "    background-color: var(--bg-color);\n",
              "    border: none;\n",
              "    border-radius: 50%;\n",
              "    cursor: pointer;\n",
              "    display: none;\n",
              "    fill: var(--fill-color);\n",
              "    height: 32px;\n",
              "    padding: 0;\n",
              "    width: 32px;\n",
              "  }\n",
              "\n",
              "  .colab-df-quickchart:hover {\n",
              "    background-color: var(--hover-bg-color);\n",
              "    box-shadow: 0 1px 2px rgba(60, 64, 67, 0.3), 0 1px 3px 1px rgba(60, 64, 67, 0.15);\n",
              "    fill: var(--button-hover-fill-color);\n",
              "  }\n",
              "\n",
              "  .colab-df-quickchart-complete:disabled,\n",
              "  .colab-df-quickchart-complete:disabled:hover {\n",
              "    background-color: var(--disabled-bg-color);\n",
              "    fill: var(--disabled-fill-color);\n",
              "    box-shadow: none;\n",
              "  }\n",
              "\n",
              "  .colab-df-spinner {\n",
              "    border: 2px solid var(--fill-color);\n",
              "    border-color: transparent;\n",
              "    border-bottom-color: var(--fill-color);\n",
              "    animation:\n",
              "      spin 1s steps(1) infinite;\n",
              "  }\n",
              "\n",
              "  @keyframes spin {\n",
              "    0% {\n",
              "      border-color: transparent;\n",
              "      border-bottom-color: var(--fill-color);\n",
              "      border-left-color: var(--fill-color);\n",
              "    }\n",
              "    20% {\n",
              "      border-color: transparent;\n",
              "      border-left-color: var(--fill-color);\n",
              "      border-top-color: var(--fill-color);\n",
              "    }\n",
              "    30% {\n",
              "      border-color: transparent;\n",
              "      border-left-color: var(--fill-color);\n",
              "      border-top-color: var(--fill-color);\n",
              "      border-right-color: var(--fill-color);\n",
              "    }\n",
              "    40% {\n",
              "      border-color: transparent;\n",
              "      border-right-color: var(--fill-color);\n",
              "      border-top-color: var(--fill-color);\n",
              "    }\n",
              "    60% {\n",
              "      border-color: transparent;\n",
              "      border-right-color: var(--fill-color);\n",
              "    }\n",
              "    80% {\n",
              "      border-color: transparent;\n",
              "      border-right-color: var(--fill-color);\n",
              "      border-bottom-color: var(--fill-color);\n",
              "    }\n",
              "    90% {\n",
              "      border-color: transparent;\n",
              "      border-bottom-color: var(--fill-color);\n",
              "    }\n",
              "  }\n",
              "</style>\n",
              "\n",
              "      <script>\n",
              "        async function quickchart(key) {\n",
              "          const quickchartButtonEl =\n",
              "            document.querySelector('#' + key + ' button');\n",
              "          quickchartButtonEl.disabled = true;  // To prevent multiple clicks.\n",
              "          quickchartButtonEl.classList.add('colab-df-spinner');\n",
              "          try {\n",
              "            const charts = await google.colab.kernel.invokeFunction(\n",
              "                'suggestCharts', [key], {});\n",
              "          } catch (error) {\n",
              "            console.error('Error during call to suggestCharts:', error);\n",
              "          }\n",
              "          quickchartButtonEl.classList.remove('colab-df-spinner');\n",
              "          quickchartButtonEl.classList.add('colab-df-quickchart-complete');\n",
              "        }\n",
              "        (() => {\n",
              "          let quickchartButtonEl =\n",
              "            document.querySelector('#df-e33203f6-b4b7-4546-866a-9ba7592ef0b8 button');\n",
              "          quickchartButtonEl.style.display =\n",
              "            google.colab.kernel.accessAllowed ? 'block' : 'none';\n",
              "        })();\n",
              "      </script>\n",
              "    </div>\n",
              "\n",
              "    </div>\n",
              "  </div>\n"
            ],
            "application/vnd.google.colaboratory.intrinsic+json": {
              "type": "dataframe",
              "variable_name": "data",
              "repr_error": "0"
            }
          },
          "metadata": {},
          "execution_count": 47
        }
      ]
    },
    {
      "cell_type": "code",
      "source": [
        "#Cleaning Smoker Col"
      ],
      "metadata": {
        "id": "kkVSWFLsbAb6"
      },
      "execution_count": 48,
      "outputs": []
    },
    {
      "cell_type": "code",
      "source": [
        "data['Smoker'] = data['Smoker'].str.strip().str.lower()\n",
        "print(data['Smoker'].head())"
      ],
      "metadata": {
        "colab": {
          "base_uri": "https://localhost:8080/"
        },
        "id": "X1pPhxeNbIlq",
        "outputId": "24b1a052-7ec0-4059-9b92-9acfb69a04d1"
      },
      "execution_count": 49,
      "outputs": [
        {
          "output_type": "stream",
          "name": "stdout",
          "text": [
            "5      n\n",
            "15     n\n",
            "41    no\n",
            "44    no\n",
            "45     y\n",
            "Name: Smoker, dtype: object\n"
          ]
        }
      ]
    },
    {
      "cell_type": "code",
      "source": [
        "data['Smoker'] = data['Smoker'].replace({'n':'No', 'no':'No', 'y':'Yes','yes':'Yes'})"
      ],
      "metadata": {
        "id": "HZIwH6fDbVYS"
      },
      "execution_count": 51,
      "outputs": []
    },
    {
      "cell_type": "code",
      "source": [
        "print(data['Smoker'].head())"
      ],
      "metadata": {
        "colab": {
          "base_uri": "https://localhost:8080/"
        },
        "id": "v3V53EzQcUGN",
        "outputId": "44c72a63-1cea-4e93-aa43-eb3fc731497d"
      },
      "execution_count": 52,
      "outputs": [
        {
          "output_type": "stream",
          "name": "stdout",
          "text": [
            "5      No\n",
            "15     No\n",
            "41     No\n",
            "44     No\n",
            "45    Yes\n",
            "Name: Smoker, dtype: object\n"
          ]
        }
      ]
    },
    {
      "cell_type": "code",
      "source": [
        "print(data.head())"
      ],
      "metadata": {
        "colab": {
          "base_uri": "https://localhost:8080/"
        },
        "id": "jkMkfBArcYKi",
        "outputId": "09ee146c-1f42-4dad-9c12-28043e548104"
      },
      "execution_count": 53,
      "outputs": [
        {
          "output_type": "stream",
          "name": "stdout",
          "text": [
            "   Patient_ID   Age  Gender  Blood_Pressure  Cholesterol   BMI Smoker  \\\n",
            "5       P1005  35.0  Female           130.0        200.0  35.4     No   \n",
            "15      P1015  55.0    Male           140.0        250.0  30.0     No   \n",
            "41      P1041  45.0    Male           140.0        250.0  35.4     No   \n",
            "44      P1044  65.0    Male           150.0        250.0  35.4     No   \n",
            "45      P1045  25.0    Male           140.0        300.0  40.1    Yes   \n",
            "\n",
            "        Diagnosis Admission_Date               Notes  \n",
            "5   Heart Disease     2023-11-08  Follow-up required  \n",
            "15       Diabetes     2023-05-29         Checkup due  \n",
            "41  Heart Disease     2023-05-02  Follow-up required  \n",
            "44       Diabetes     2023-03-31  Follow-up required  \n",
            "45  Heart Disease     2023-05-16             Pending  \n"
          ]
        }
      ]
    },
    {
      "cell_type": "code",
      "source": [
        "#Removes Duplicate"
      ],
      "metadata": {
        "id": "x3kOLNdlcadd"
      },
      "execution_count": 54,
      "outputs": []
    },
    {
      "cell_type": "code",
      "source": [
        "print('Duplicated Before', data.duplicated().sum())"
      ],
      "metadata": {
        "colab": {
          "base_uri": "https://localhost:8080/"
        },
        "id": "8NSOFzzzcnrS",
        "outputId": "a4214962-dd0d-494f-d8fa-eaff17c088bb"
      },
      "execution_count": 58,
      "outputs": [
        {
          "output_type": "stream",
          "name": "stdout",
          "text": [
            "Duplicated Before 0\n"
          ]
        }
      ]
    },
    {
      "cell_type": "code",
      "source": [
        "data = data.drop_duplicates()"
      ],
      "metadata": {
        "id": "lPFIg_0HcrT1"
      },
      "execution_count": 56,
      "outputs": []
    },
    {
      "cell_type": "code",
      "source": [
        "print('Duplicated After', data.duplicated().sum())"
      ],
      "metadata": {
        "colab": {
          "base_uri": "https://localhost:8080/"
        },
        "id": "_B2SxMsFcz4u",
        "outputId": "cbc745a6-a761-4a33-d5d6-8b1ae54d50e6"
      },
      "execution_count": 59,
      "outputs": [
        {
          "output_type": "stream",
          "name": "stdout",
          "text": [
            "Duplicated After 0\n"
          ]
        }
      ]
    },
    {
      "cell_type": "code",
      "source": [
        "# Fix Data Types (Dates should be 'datetime', numbers should be numericals)"
      ],
      "metadata": {
        "id": "p4p_jpFOc2SR"
      },
      "execution_count": 61,
      "outputs": []
    },
    {
      "cell_type": "code",
      "source": [
        "data['Admission_Date'] = pd.to_datetime(data['Admission_Date'], errors='coerce')"
      ],
      "metadata": {
        "id": "1YRW4FnIdHNa"
      },
      "execution_count": 64,
      "outputs": []
    },
    {
      "cell_type": "code",
      "source": [
        "data['Age'] = data['Age'].astype(int)"
      ],
      "metadata": {
        "id": "dKV8N86odVo0"
      },
      "execution_count": 66,
      "outputs": []
    },
    {
      "cell_type": "code",
      "source": [
        "# Handeling outliers"
      ],
      "metadata": {
        "id": "q_4nIOp1dlrC"
      },
      "execution_count": 68,
      "outputs": []
    },
    {
      "cell_type": "code",
      "source": [
        "Q1 = data['BMI'].quantile(0.25)\n",
        "Q3 = data['BMI'].quantile(0.75)\n",
        "IQR = Q3 - Q1\n",
        "\n",
        "lower = Q1 - 1.5 * IQR\n",
        "upper = Q3 + 1.5 * IQR\n",
        "\n",
        "data = data[(data['BMI'] >= lower) & (data['BMI'] <= upper)]"
      ],
      "metadata": {
        "id": "RYjKnsdgdtr2"
      },
      "execution_count": 71,
      "outputs": []
    },
    {
      "cell_type": "code",
      "source": [
        "# Standarzie Data"
      ],
      "metadata": {
        "id": "f4ARf_NSeA6k"
      },
      "execution_count": 72,
      "outputs": []
    },
    {
      "cell_type": "code",
      "source": [
        "data['Age_nm'] = (data['Age'] - data['Age'].min()) / (data['Age'] - data['Age'].max() - data['Age'].min())"
      ],
      "metadata": {
        "id": "Q-GR3oLQePe2"
      },
      "execution_count": 73,
      "outputs": []
    },
    {
      "cell_type": "code",
      "source": [
        "data['BMI_nm'] = (data['BMI'] - data['BMI'].mean()) / data['BMI'].std()"
      ],
      "metadata": {
        "id": "PRDyXp16exHV"
      },
      "execution_count": 74,
      "outputs": []
    },
    {
      "cell_type": "code",
      "source": [
        "# Save Data"
      ],
      "metadata": {
        "id": "7KpiCCbBfBRn"
      },
      "execution_count": 75,
      "outputs": []
    },
    {
      "cell_type": "code",
      "source": [
        "data.to_csv('/content/realworld_medical_cleaned.csv', index = False)\n",
        "print(\"Cleaned Data Saved\")"
      ],
      "metadata": {
        "colab": {
          "base_uri": "https://localhost:8080/"
        },
        "id": "UqUMBMtlfDwh",
        "outputId": "0bcf54db-b644-429d-a41f-0e7b6cc542e9"
      },
      "execution_count": 76,
      "outputs": [
        {
          "output_type": "stream",
          "name": "stdout",
          "text": [
            "Cleaned Data Saved\n"
          ]
        }
      ]
    },
    {
      "cell_type": "code",
      "source": [],
      "metadata": {
        "id": "MmsVhFGqfhJe"
      },
      "execution_count": null,
      "outputs": []
    }
  ]
}